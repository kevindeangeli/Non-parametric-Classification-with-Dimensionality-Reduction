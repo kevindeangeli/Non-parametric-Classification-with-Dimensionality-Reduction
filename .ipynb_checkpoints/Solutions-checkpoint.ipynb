{
 "cells": [
  {
   "cell_type": "code",
   "execution_count": 18,
   "metadata": {},
   "outputs": [
    {
     "name": "stdout",
     "output_type": "stream",
     "text": [
      "    x2  x3  x4    x5     x6  x7  y\n",
      "0   86  68  28  30.2  0.364  24  0\n",
      "1  195  70  33  25.1  0.163  55  1\n"
     ]
    }
   ],
   "source": [
    "import numpy as np\n",
    "import pandas as pd\n",
    "import math #Used for Pi and log()\n",
    "import sympy as sym\n",
    "import matplotlib.pyplot as plt\n",
    "from mpl_toolkits.mplot3d import Axes3D\n",
    "from numpy import ones,vstack\n",
    "\n",
    "\n",
    "path = '/Users/kevindeangeli/Desktop/Fall2019/COSC522/Project2/Dataset_PimaTr.txt'\n",
    "training_data = pd.read_csv(path, delim_whitespace = 1, header=None)\n",
    "training_data.columns=['x1', 'x2','x3','x4', 'x5', 'x6','x7', 'y']\n",
    "\n",
    "#Task 1 \n",
    "training_data['y'] = training_data['y'].map({'Yes': 1, 'No': 0})\n",
    "#print(training_data.head(2))\n",
    "training_data=training_data.drop(['x1'],axis = 1)\n",
    "print(training_data.head(2))\n",
    "\n",
    "\n",
    "\n",
    "path2 = '/Users/kevindeangeli/Desktop/Fall2019/COSC522/Project2/Dataset_PimaTest.txt'\n",
    "test_data = pd.read_csv(path2, delim_whitespace = 1, header=None)\n",
    "test_data.columns=['x1', 'x2','x3','x4', 'x5', 'x6','x7', 'y']\n",
    "test_data['y'] = test_data['y'].map({'Yes': 1, 'No': 0})\n",
    "test_data=test_data.drop(['x1'],axis = 1)\n",
    "\n",
    "\n",
    "\n",
    "y0x1Mean = y0Values.loc[:,\"x1\"].mean()\n",
    "y0x2Mean = y0Values.loc[:,\"x2\"].mean()\n",
    "y1x1Mean = y1Values.loc[:,\"x1\"].mean()\n",
    "y1x2Mean = y1Values.loc[:,\"x2\"].mean()\n",
    "\n",
    "y0x0=y0Values['x1'].tolist()\n",
    "yox1=y0Values['x2'].tolist()\n",
    "y0Cov=np.cov(np.array([y0x0,yox1]))\n",
    "y1x0=y1Values['x1'].tolist()\n",
    "y1x1=y1Values['x2'].tolist()\n",
    "y1Cov=np.cov(np.array([y1x0,y1x1]))\n",
    "\n",
    "y0X1Std = y0Cov[0,0]\n",
    "y0X2Std = y0Cov[1,1]\n",
    "y1X1Std = y1Cov[0,0]\n",
    "y1X2Std = y1Cov[1,1]\n",
    "\n",
    "\n",
    "tr_y1Values = training_data[training_data['y']==1]\n",
    "tr_y0Values = training_data[training_data['y']==0]\n",
    "test_y1Values = training_data[training_data['y']==1]\n",
    "test_y0Values = training_data[training_data['y']==0]"
   ]
  },
  {
   "cell_type": "code",
   "execution_count": null,
   "metadata": {},
   "outputs": [],
   "source": []
  }
 ],
 "metadata": {
  "kernelspec": {
   "display_name": "Python 3",
   "language": "python",
   "name": "python3"
  },
  "language_info": {
   "codemirror_mode": {
    "name": "ipython",
    "version": 3
   },
   "file_extension": ".py",
   "mimetype": "text/x-python",
   "name": "python",
   "nbconvert_exporter": "python",
   "pygments_lexer": "ipython3",
   "version": "3.7.4"
  }
 },
 "nbformat": 4,
 "nbformat_minor": 2
}
